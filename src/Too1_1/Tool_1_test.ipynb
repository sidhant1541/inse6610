{
 "cells": [
  {
   "cell_type": "code",
   "execution_count": 5,
   "id": "5bd7a2c8-257a-4c8a-bb75-944b26f4cfb7",
   "metadata": {},
   "outputs": [
    {
     "name": "stdout",
     "output_type": "stream",
     "text": [
      "(7267, 10) (7267,)\n"
     ]
    }
   ],
   "source": [
    "import pandas as pd\n",
    "import numpy as np\n",
    "from sklearn import preprocessing\n",
    "import matplotlib.pyplot as plt\n",
    "import time\n",
    "import pickle\n",
    "import warnings\n",
    "warnings.filterwarnings(\"ignore\")\n",
    "\n",
    "with open('model_1.pkl', 'rb') as f:\n",
    "    rfc = pickle.load(f)\n",
    "rfc\n",
    "\n",
    "df = pd.read_csv('/Users/divyaprabharajendran/Documents/6610 project/data/CSV files/Tool_1/web_attacks_balanced.csv')\n",
    "#df = df.drop(columns=['Fwd Header Length.1'])\n",
    "\n",
    "webattack_features   = [ 'Average Packet Size',\n",
    " 'Flow Bytes/s',\n",
    " 'Max Packet Length',\n",
    " 'Fwd Packet Length Mean',\n",
    " 'Fwd IAT Min',\n",
    " 'Total Length of Fwd Packets',\n",
    " 'Flow IAT Mean',\n",
    " 'Fwd Packet Length Max',\n",
    " 'Fwd IAT Std',\n",
    " 'Fwd Header Length']\n",
    "\n",
    "\n",
    "\n",
    "\n",
    "df['Label'] = df['Label'].apply(lambda x: 0 if x == 'BENIGN' else 1)\n",
    "y_test = df['Label'].values\n",
    "X_test = df[webattack_features]\n",
    "print(X_test.shape, y_test.shape)\n",
    "\n"
   ]
  },
  {
   "cell_type": "code",
   "execution_count": 6,
   "id": "0ea06f62-6895-438a-a517-474e3522c6ae",
   "metadata": {},
   "outputs": [
    {
     "data": {
      "text/html": [
       "<div>\n",
       "<style scoped>\n",
       "    .dataframe tbody tr th:only-of-type {\n",
       "        vertical-align: middle;\n",
       "    }\n",
       "\n",
       "    .dataframe tbody tr th {\n",
       "        vertical-align: top;\n",
       "    }\n",
       "\n",
       "    .dataframe thead th {\n",
       "        text-align: right;\n",
       "    }\n",
       "</style>\n",
       "<table border=\"1\" class=\"dataframe\">\n",
       "  <thead>\n",
       "    <tr style=\"text-align: right;\">\n",
       "      <th></th>\n",
       "      <th>Average Packet Size</th>\n",
       "      <th>Flow Bytes/s</th>\n",
       "      <th>Max Packet Length</th>\n",
       "      <th>Fwd Packet Length Mean</th>\n",
       "      <th>Fwd IAT Min</th>\n",
       "      <th>Total Length of Fwd Packets</th>\n",
       "      <th>Flow IAT Mean</th>\n",
       "      <th>Fwd Packet Length Max</th>\n",
       "      <th>Fwd IAT Std</th>\n",
       "      <th>Fwd Header Length</th>\n",
       "    </tr>\n",
       "  </thead>\n",
       "  <tbody>\n",
       "    <tr>\n",
       "      <th>0</th>\n",
       "      <td>80.75</td>\n",
       "      <td>3.689366e+03</td>\n",
       "      <td>103.0</td>\n",
       "      <td>39.0</td>\n",
       "      <td>4.0</td>\n",
       "      <td>78.0</td>\n",
       "      <td>25659.333330</td>\n",
       "      <td>39.0</td>\n",
       "      <td>0.0</td>\n",
       "      <td>64.0</td>\n",
       "    </tr>\n",
       "    <tr>\n",
       "      <th>1</th>\n",
       "      <td>80.75</td>\n",
       "      <td>3.635433e+03</td>\n",
       "      <td>103.0</td>\n",
       "      <td>39.0</td>\n",
       "      <td>3.0</td>\n",
       "      <td>78.0</td>\n",
       "      <td>26040.000000</td>\n",
       "      <td>39.0</td>\n",
       "      <td>0.0</td>\n",
       "      <td>64.0</td>\n",
       "    </tr>\n",
       "    <tr>\n",
       "      <th>2</th>\n",
       "      <td>63.50</td>\n",
       "      <td>1.082927e+06</td>\n",
       "      <td>79.0</td>\n",
       "      <td>32.0</td>\n",
       "      <td>37.0</td>\n",
       "      <td>64.0</td>\n",
       "      <td>68.333333</td>\n",
       "      <td>32.0</td>\n",
       "      <td>0.0</td>\n",
       "      <td>64.0</td>\n",
       "    </tr>\n",
       "    <tr>\n",
       "      <th>3</th>\n",
       "      <td>94.25</td>\n",
       "      <td>1.928994e+06</td>\n",
       "      <td>112.0</td>\n",
       "      <td>51.0</td>\n",
       "      <td>3.0</td>\n",
       "      <td>102.0</td>\n",
       "      <td>56.333333</td>\n",
       "      <td>51.0</td>\n",
       "      <td>0.0</td>\n",
       "      <td>64.0</td>\n",
       "    </tr>\n",
       "    <tr>\n",
       "      <th>4</th>\n",
       "      <td>94.25</td>\n",
       "      <td>1.097643e+06</td>\n",
       "      <td>112.0</td>\n",
       "      <td>51.0</td>\n",
       "      <td>4.0</td>\n",
       "      <td>102.0</td>\n",
       "      <td>99.000000</td>\n",
       "      <td>51.0</td>\n",
       "      <td>0.0</td>\n",
       "      <td>64.0</td>\n",
       "    </tr>\n",
       "  </tbody>\n",
       "</table>\n",
       "</div>"
      ],
      "text/plain": [
       "   Average Packet Size  Flow Bytes/s  Max Packet Length  \\\n",
       "0                80.75  3.689366e+03              103.0   \n",
       "1                80.75  3.635433e+03              103.0   \n",
       "2                63.50  1.082927e+06               79.0   \n",
       "3                94.25  1.928994e+06              112.0   \n",
       "4                94.25  1.097643e+06              112.0   \n",
       "\n",
       "   Fwd Packet Length Mean  Fwd IAT Min  Total Length of Fwd Packets  \\\n",
       "0                    39.0          4.0                         78.0   \n",
       "1                    39.0          3.0                         78.0   \n",
       "2                    32.0         37.0                         64.0   \n",
       "3                    51.0          3.0                        102.0   \n",
       "4                    51.0          4.0                        102.0   \n",
       "\n",
       "   Flow IAT Mean  Fwd Packet Length Max  Fwd IAT Std  Fwd Header Length  \n",
       "0   25659.333330                   39.0          0.0               64.0  \n",
       "1   26040.000000                   39.0          0.0               64.0  \n",
       "2      68.333333                   32.0          0.0               64.0  \n",
       "3      56.333333                   51.0          0.0               64.0  \n",
       "4      99.000000                   51.0          0.0               64.0  "
      ]
     },
     "execution_count": 6,
     "metadata": {},
     "output_type": "execute_result"
    }
   ],
   "source": [
    "X_test.head()"
   ]
  },
  {
   "cell_type": "code",
   "execution_count": 7,
   "id": "a10b359c-57da-44c4-a36f-bbdc4758faca",
   "metadata": {},
   "outputs": [
    {
     "name": "stdout",
     "output_type": "stream",
     "text": [
      "Total operation time: 0.0323638916015625 seconds\n",
      "Benign records detected (0), attacks detected (1):\n"
     ]
    },
    {
     "data": {
      "text/plain": [
       "{0: 5102, 1: 2165}"
      ]
     },
     "execution_count": 7,
     "metadata": {},
     "output_type": "execute_result"
    }
   ],
   "source": [
    "import time\n",
    "seconds = time.time()\n",
    "y_pred = rfc.predict(X_test)\n",
    "print(\"Total operation time:\", time.time() - seconds, \"seconds\")\n",
    "\n",
    "print(\"Benign records detected (0), attacks detected (1):\")\n",
    "unique, counts = np.unique(y_pred, return_counts=True)\n",
    "dict(zip(unique, counts))"
   ]
  },
  {
   "cell_type": "code",
   "execution_count": null,
   "id": "05f436a2-579a-4e5f-abe5-e7e7fb66c8bf",
   "metadata": {},
   "outputs": [],
   "source": []
  }
 ],
 "metadata": {
  "kernelspec": {
   "display_name": "Python 3 (ipykernel)",
   "language": "python",
   "name": "python3"
  },
  "language_info": {
   "codemirror_mode": {
    "name": "ipython",
    "version": 3
   },
   "file_extension": ".py",
   "mimetype": "text/x-python",
   "name": "python",
   "nbconvert_exporter": "python",
   "pygments_lexer": "ipython3",
   "version": "3.11.7"
  }
 },
 "nbformat": 4,
 "nbformat_minor": 5
}
