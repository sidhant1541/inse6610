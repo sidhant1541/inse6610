{
 "cells": [
  {
   "cell_type": "markdown",
   "id": "8fb41830-731d-4f4c-b1cd-00f84cf26c8d",
   "metadata": {},
   "source": [
    "# Importing pandas"
   ]
  },
  {
   "cell_type": "code",
   "execution_count": 1,
   "id": "8642dffc-05d8-441b-ba81-1c13efa5e027",
   "metadata": {},
   "outputs": [],
   "source": [
    "import pandas as pd"
   ]
  },
  {
   "cell_type": "markdown",
   "id": "99b0282d-7430-4f1b-ba16-d45399c9ac50",
   "metadata": {},
   "source": [
    "# accessing the first dataset"
   ]
  },
  {
   "cell_type": "code",
   "execution_count": 3,
   "id": "94d8f4f2-74ab-4b9c-b2f2-5030aa0e0bd7",
   "metadata": {},
   "outputs": [],
   "source": [
    "df1 = pd.read_csv('/Users/divyaprabharajendran/Documents/6610 project/data/CSV files/Phishing_Legitimate_full.csv')"
   ]
  },
  {
   "cell_type": "markdown",
   "id": "c2178ca7-c9f9-4b4e-8eef-3f25bb781a3b",
   "metadata": {},
   "source": [
    "# Identifying empty values in the dataset"
   ]
  },
  {
   "cell_type": "code",
   "execution_count": 4,
   "id": "c4134fbd-f195-40f6-af35-ac7a0b8ba642",
   "metadata": {},
   "outputs": [
    {
     "name": "stdout",
     "output_type": "stream",
     "text": [
      "         id  NumDots  SubdomainLevel  PathLevel  UrlLength  NumDash  \\\n",
      "0     False    False           False      False      False    False   \n",
      "1     False    False           False      False      False    False   \n",
      "2     False    False           False      False      False    False   \n",
      "3     False    False           False      False      False    False   \n",
      "4     False    False           False      False      False    False   \n",
      "...     ...      ...             ...        ...        ...      ...   \n",
      "9995  False    False           False      False      False    False   \n",
      "9996  False    False           False      False      False    False   \n",
      "9997  False    False           False      False      False    False   \n",
      "9998  False    False           False      False      False    False   \n",
      "9999  False    False           False      False      False    False   \n",
      "\n",
      "      NumDashInHostname  AtSymbol  TildeSymbol  NumUnderscore  ...  \\\n",
      "0                 False     False        False          False  ...   \n",
      "1                 False     False        False          False  ...   \n",
      "2                 False     False        False          False  ...   \n",
      "3                 False     False        False          False  ...   \n",
      "4                 False     False        False          False  ...   \n",
      "...                 ...       ...          ...            ...  ...   \n",
      "9995              False     False        False          False  ...   \n",
      "9996              False     False        False          False  ...   \n",
      "9997              False     False        False          False  ...   \n",
      "9998              False     False        False          False  ...   \n",
      "9999              False     False        False          False  ...   \n",
      "\n",
      "      IframeOrFrame  MissingTitle  ImagesOnlyInForm  SubdomainLevelRT  \\\n",
      "0             False         False             False             False   \n",
      "1             False         False             False             False   \n",
      "2             False         False             False             False   \n",
      "3             False         False             False             False   \n",
      "4             False         False             False             False   \n",
      "...             ...           ...               ...               ...   \n",
      "9995          False         False             False             False   \n",
      "9996          False         False             False             False   \n",
      "9997          False         False             False             False   \n",
      "9998          False         False             False             False   \n",
      "9999          False         False             False             False   \n",
      "\n",
      "      UrlLengthRT  PctExtResourceUrlsRT  AbnormalExtFormActionR  \\\n",
      "0           False                 False                   False   \n",
      "1           False                 False                   False   \n",
      "2           False                 False                   False   \n",
      "3           False                 False                   False   \n",
      "4           False                 False                   False   \n",
      "...           ...                   ...                     ...   \n",
      "9995        False                 False                   False   \n",
      "9996        False                 False                   False   \n",
      "9997        False                 False                   False   \n",
      "9998        False                 False                   False   \n",
      "9999        False                 False                   False   \n",
      "\n",
      "      ExtMetaScriptLinkRT  PctExtNullSelfRedirectHyperlinksRT  CLASS_LABEL  \n",
      "0                   False                               False        False  \n",
      "1                   False                               False        False  \n",
      "2                   False                               False        False  \n",
      "3                   False                               False        False  \n",
      "4                   False                               False        False  \n",
      "...                   ...                                 ...          ...  \n",
      "9995                False                               False        False  \n",
      "9996                False                               False        False  \n",
      "9997                False                               False        False  \n",
      "9998                False                               False        False  \n",
      "9999                False                               False        False  \n",
      "\n",
      "[10000 rows x 50 columns]\n"
     ]
    }
   ],
   "source": [
    "print(df1.isnull())"
   ]
  },
  {
   "cell_type": "code",
   "execution_count": null,
   "id": "a974d6c0-4a26-4d8a-8ada-a4fbd851c26f",
   "metadata": {},
   "outputs": [],
   "source": []
  }
 ],
 "metadata": {
  "kernelspec": {
   "display_name": "Python 3 (ipykernel)",
   "language": "python",
   "name": "python3"
  },
  "language_info": {
   "codemirror_mode": {
    "name": "ipython",
    "version": 3
   },
   "file_extension": ".py",
   "mimetype": "text/x-python",
   "name": "python",
   "nbconvert_exporter": "python",
   "pygments_lexer": "ipython3",
   "version": "3.11.7"
  }
 },
 "nbformat": 4,
 "nbformat_minor": 5
}
