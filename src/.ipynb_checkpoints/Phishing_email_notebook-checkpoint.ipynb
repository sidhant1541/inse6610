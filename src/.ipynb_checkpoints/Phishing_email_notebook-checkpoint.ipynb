{
 "cells": [
  {
   "cell_type": "markdown",
   "id": "8fb41830-731d-4f4c-b1cd-00f84cf26c8d",
   "metadata": {},
   "source": [
    "# Importing pandas"
   ]
  },
  {
   "cell_type": "code",
   "execution_count": 61,
   "id": "8642dffc-05d8-441b-ba81-1c13efa5e027",
   "metadata": {},
   "outputs": [],
   "source": [
    "import pandas as pd"
   ]
  },
  {
   "cell_type": "markdown",
   "id": "99b0282d-7430-4f1b-ba16-d45399c9ac50",
   "metadata": {},
   "source": [
    "# accessing the dataset"
   ]
  },
  {
   "cell_type": "code",
   "execution_count": 105,
   "id": "94d8f4f2-74ab-4b9c-b2f2-5030aa0e0bd7",
   "metadata": {},
   "outputs": [
    {
     "data": {
      "text/html": [
       "<div>\n",
       "<style scoped>\n",
       "    .dataframe tbody tr th:only-of-type {\n",
       "        vertical-align: middle;\n",
       "    }\n",
       "\n",
       "    .dataframe tbody tr th {\n",
       "        vertical-align: top;\n",
       "    }\n",
       "\n",
       "    .dataframe thead th {\n",
       "        text-align: right;\n",
       "    }\n",
       "</style>\n",
       "<table border=\"1\" class=\"dataframe\">\n",
       "  <thead>\n",
       "    <tr style=\"text-align: right;\">\n",
       "      <th></th>\n",
       "      <th>ID</th>\n",
       "      <th>Email Text</th>\n",
       "      <th>Email Type</th>\n",
       "    </tr>\n",
       "  </thead>\n",
       "  <tbody>\n",
       "    <tr>\n",
       "      <th>0</th>\n",
       "      <td>0</td>\n",
       "      <td>re : 6 . 1100 , disc : uniformitarianism , re ...</td>\n",
       "      <td>Safe Email</td>\n",
       "    </tr>\n",
       "    <tr>\n",
       "      <th>1</th>\n",
       "      <td>1</td>\n",
       "      <td>the other side of * galicismos * * galicismo *...</td>\n",
       "      <td>Safe Email</td>\n",
       "    </tr>\n",
       "    <tr>\n",
       "      <th>2</th>\n",
       "      <td>2</td>\n",
       "      <td>re : equistar deal tickets are you still avail...</td>\n",
       "      <td>Safe Email</td>\n",
       "    </tr>\n",
       "    <tr>\n",
       "      <th>3</th>\n",
       "      <td>3</td>\n",
       "      <td>\\nHello I am your hot lil horny toy.\\n    I am...</td>\n",
       "      <td>Phishing Email</td>\n",
       "    </tr>\n",
       "    <tr>\n",
       "      <th>4</th>\n",
       "      <td>4</td>\n",
       "      <td>software at incredibly low prices ( 86 % lower...</td>\n",
       "      <td>Phishing Email</td>\n",
       "    </tr>\n",
       "    <tr>\n",
       "      <th>5</th>\n",
       "      <td>5</td>\n",
       "      <td>global risk management operations sally congra...</td>\n",
       "      <td>Safe Email</td>\n",
       "    </tr>\n",
       "    <tr>\n",
       "      <th>6</th>\n",
       "      <td>6</td>\n",
       "      <td>On Sun, Aug 11, 2002 at 11:17:47AM +0100, wint...</td>\n",
       "      <td>Safe Email</td>\n",
       "    </tr>\n",
       "    <tr>\n",
       "      <th>7</th>\n",
       "      <td>7</td>\n",
       "      <td>entourage , stockmogul newsletter ralph velez ...</td>\n",
       "      <td>Phishing Email</td>\n",
       "    </tr>\n",
       "    <tr>\n",
       "      <th>8</th>\n",
       "      <td>8</td>\n",
       "      <td>we owe you lots of money dear applicant , afte...</td>\n",
       "      <td>Phishing Email</td>\n",
       "    </tr>\n",
       "    <tr>\n",
       "      <th>9</th>\n",
       "      <td>9</td>\n",
       "      <td>re : coastal deal - with exxon participation u...</td>\n",
       "      <td>Safe Email</td>\n",
       "    </tr>\n",
       "  </tbody>\n",
       "</table>\n",
       "</div>"
      ],
      "text/plain": [
       "   ID                                         Email Text      Email Type\n",
       "0   0  re : 6 . 1100 , disc : uniformitarianism , re ...      Safe Email\n",
       "1   1  the other side of * galicismos * * galicismo *...      Safe Email\n",
       "2   2  re : equistar deal tickets are you still avail...      Safe Email\n",
       "3   3  \\nHello I am your hot lil horny toy.\\n    I am...  Phishing Email\n",
       "4   4  software at incredibly low prices ( 86 % lower...  Phishing Email\n",
       "5   5  global risk management operations sally congra...      Safe Email\n",
       "6   6  On Sun, Aug 11, 2002 at 11:17:47AM +0100, wint...      Safe Email\n",
       "7   7  entourage , stockmogul newsletter ralph velez ...  Phishing Email\n",
       "8   8  we owe you lots of money dear applicant , afte...  Phishing Email\n",
       "9   9  re : coastal deal - with exxon participation u...      Safe Email"
      ]
     },
     "execution_count": 105,
     "metadata": {},
     "output_type": "execute_result"
    }
   ],
   "source": [
    "df1 = pd.read_csv('/Users/divyaprabharajendran/Documents/6610 project/data/CSV files/Phishing_Email.csv')\n",
    "df1.head(10)"
   ]
  },
  {
   "cell_type": "markdown",
   "id": "0659c41a-10d7-4f12-8e72-106b794ad36e",
   "metadata": {},
   "source": [
    "# Numerical and categorical columns"
   ]
  },
  {
   "cell_type": "code",
   "execution_count": 106,
   "id": "afdd0cd7-515d-49d9-8aa4-825682436b85",
   "metadata": {},
   "outputs": [],
   "source": [
    "Numerical = df1.select_dtypes(exclude = 'object').columns\n",
    "categorical = df1.select_dtypes(include = 'object').columns"
   ]
  },
  {
   "cell_type": "code",
   "execution_count": 107,
   "id": "207a06c9-30c4-4a2f-9caf-b58b4cb72474",
   "metadata": {},
   "outputs": [
    {
     "data": {
      "text/plain": [
       "Index(['ID'], dtype='object')"
      ]
     },
     "execution_count": 107,
     "metadata": {},
     "output_type": "execute_result"
    }
   ],
   "source": [
    "Numerical"
   ]
  },
  {
   "cell_type": "code",
   "execution_count": 108,
   "id": "81e51ebc-8c94-4741-b9b6-5efe9cf07d89",
   "metadata": {},
   "outputs": [
    {
     "data": {
      "text/plain": [
       "Index(['Email Text', 'Email Type'], dtype='object')"
      ]
     },
     "execution_count": 108,
     "metadata": {},
     "output_type": "execute_result"
    }
   ],
   "source": [
    "categorical"
   ]
  },
  {
   "cell_type": "markdown",
   "id": "8756363d-04fc-436b-88c4-9798c86db7f4",
   "metadata": {},
   "source": [
    "# Cleaning empty rows and deleting duplicate values\n",
    "The rows with empy data are denoted as 'empty'"
   ]
  },
  {
   "cell_type": "code",
   "execution_count": 109,
   "id": "84e03e28-8c9f-41fa-8125-4fc5f23b3fd4",
   "metadata": {},
   "outputs": [
    {
     "data": {
      "text/plain": [
       "ID             0\n",
       "Email Text    16\n",
       "Email Type     0\n",
       "dtype: int64"
      ]
     },
     "execution_count": 109,
     "metadata": {},
     "output_type": "execute_result"
    }
   ],
   "source": [
    "df1.isna().sum()"
   ]
  },
  {
   "cell_type": "code",
   "execution_count": 110,
   "id": "d2addfcf-739b-46af-8837-23dc29c61e26",
   "metadata": {},
   "outputs": [],
   "source": [
    "df1.dropna(inplace=True,axis=0)\n",
    "df1.drop_duplicates(inplace=True)"
   ]
  },
  {
   "cell_type": "code",
   "execution_count": 111,
   "id": "bbe772ea-f7b2-46df-8d42-783f6b388048",
   "metadata": {},
   "outputs": [
    {
     "data": {
      "text/plain": [
       "ID            0\n",
       "Email Text    0\n",
       "Email Type    0\n",
       "dtype: int64"
      ]
     },
     "execution_count": 111,
     "metadata": {},
     "output_type": "execute_result"
    }
   ],
   "source": [
    "df1.isna().sum()"
   ]
  },
  {
   "cell_type": "code",
   "execution_count": 112,
   "id": "08dedf81-8363-40a7-97a3-10f9f343584f",
   "metadata": {},
   "outputs": [],
   "source": [
    "filtered_df = df1[df1['Email Text'] == \"empty\"]\n"
   ]
  },
  {
   "cell_type": "code",
   "execution_count": 113,
   "id": "064f76cd-7b32-41eb-9bed-c4435a21f5d5",
   "metadata": {},
   "outputs": [
    {
     "data": {
      "text/plain": [
       "ID            533\n",
       "Email Text    533\n",
       "Email Type    533\n",
       "dtype: int64"
      ]
     },
     "execution_count": 113,
     "metadata": {},
     "output_type": "execute_result"
    }
   ],
   "source": [
    "filtered_df.count()"
   ]
  },
  {
   "cell_type": "code",
   "execution_count": 114,
   "id": "9574510a-e86d-4d9b-86dc-300a14b7dbd8",
   "metadata": {},
   "outputs": [],
   "source": [
    "filtered_df = df1[df1['Email Text'] == \"empty\"].index"
   ]
  },
  {
   "cell_type": "code",
   "execution_count": 115,
   "id": "2d85c73b-4a63-4b99-8c6e-57fd8e82479b",
   "metadata": {},
   "outputs": [],
   "source": [
    "df1.drop(filtered_df , inplace=True)"
   ]
  },
  {
   "cell_type": "code",
   "execution_count": 116,
   "id": "1d6c2e65-35c4-443d-8cf4-6f0ce4b4d054",
   "metadata": {},
   "outputs": [],
   "source": [
    "filtered_df = df1[df1['Email Text'] == \"empty\"]"
   ]
  },
  {
   "cell_type": "code",
   "execution_count": 117,
   "id": "e47706fc-27f9-45f5-9df7-1a1a426418a2",
   "metadata": {},
   "outputs": [
    {
     "data": {
      "text/plain": [
       "ID            0\n",
       "Email Text    0\n",
       "Email Type    0\n",
       "dtype: int64"
      ]
     },
     "execution_count": 117,
     "metadata": {},
     "output_type": "execute_result"
    }
   ],
   "source": [
    "filtered_df.count()"
   ]
  },
  {
   "cell_type": "markdown",
   "id": "afb9737b-0d7c-4507-9d67-3274d27f81b4",
   "metadata": {},
   "source": [
    "# Encoding categorical data\n",
    "\n",
    "Ordinal encoding is performed\n",
    "\n",
    "Phising Email => 1\n",
    "Safe email => 0"
   ]
  },
  {
   "cell_type": "code",
   "execution_count": 118,
   "id": "c518b484-142f-42c8-8feb-1b11ea8f6d69",
   "metadata": {},
   "outputs": [],
   "source": [
    "from sklearn.preprocessing import OrdinalEncoder\n"
   ]
  },
  {
   "cell_type": "code",
   "execution_count": 119,
   "id": "c9b38f9a-faca-4efe-b010-06ed9e32ccd7",
   "metadata": {},
   "outputs": [],
   "source": [
    "Encoder = OrdinalEncoder(categories=[[\"Phishing Email\", \"Safe Email\"]])\n",
    "df1['Email Type'] = Encoder.fit_transform(df1[['Email Type']])"
   ]
  },
  {
   "cell_type": "code",
   "execution_count": 120,
   "id": "1779b2c5-d9a5-4d5b-99b0-0c4d6c6b44ea",
   "metadata": {},
   "outputs": [
    {
     "data": {
      "text/html": [
       "<div>\n",
       "<style scoped>\n",
       "    .dataframe tbody tr th:only-of-type {\n",
       "        vertical-align: middle;\n",
       "    }\n",
       "\n",
       "    .dataframe tbody tr th {\n",
       "        vertical-align: top;\n",
       "    }\n",
       "\n",
       "    .dataframe thead th {\n",
       "        text-align: right;\n",
       "    }\n",
       "</style>\n",
       "<table border=\"1\" class=\"dataframe\">\n",
       "  <thead>\n",
       "    <tr style=\"text-align: right;\">\n",
       "      <th></th>\n",
       "      <th>ID</th>\n",
       "      <th>Email Text</th>\n",
       "      <th>Email Type</th>\n",
       "    </tr>\n",
       "  </thead>\n",
       "  <tbody>\n",
       "    <tr>\n",
       "      <th>0</th>\n",
       "      <td>0</td>\n",
       "      <td>re : 6 . 1100 , disc : uniformitarianism , re ...</td>\n",
       "      <td>1.0</td>\n",
       "    </tr>\n",
       "    <tr>\n",
       "      <th>1</th>\n",
       "      <td>1</td>\n",
       "      <td>the other side of * galicismos * * galicismo *...</td>\n",
       "      <td>1.0</td>\n",
       "    </tr>\n",
       "    <tr>\n",
       "      <th>2</th>\n",
       "      <td>2</td>\n",
       "      <td>re : equistar deal tickets are you still avail...</td>\n",
       "      <td>1.0</td>\n",
       "    </tr>\n",
       "    <tr>\n",
       "      <th>3</th>\n",
       "      <td>3</td>\n",
       "      <td>\\nHello I am your hot lil horny toy.\\n    I am...</td>\n",
       "      <td>0.0</td>\n",
       "    </tr>\n",
       "    <tr>\n",
       "      <th>4</th>\n",
       "      <td>4</td>\n",
       "      <td>software at incredibly low prices ( 86 % lower...</td>\n",
       "      <td>0.0</td>\n",
       "    </tr>\n",
       "    <tr>\n",
       "      <th>5</th>\n",
       "      <td>5</td>\n",
       "      <td>global risk management operations sally congra...</td>\n",
       "      <td>1.0</td>\n",
       "    </tr>\n",
       "    <tr>\n",
       "      <th>6</th>\n",
       "      <td>6</td>\n",
       "      <td>On Sun, Aug 11, 2002 at 11:17:47AM +0100, wint...</td>\n",
       "      <td>1.0</td>\n",
       "    </tr>\n",
       "    <tr>\n",
       "      <th>7</th>\n",
       "      <td>7</td>\n",
       "      <td>entourage , stockmogul newsletter ralph velez ...</td>\n",
       "      <td>0.0</td>\n",
       "    </tr>\n",
       "    <tr>\n",
       "      <th>8</th>\n",
       "      <td>8</td>\n",
       "      <td>we owe you lots of money dear applicant , afte...</td>\n",
       "      <td>0.0</td>\n",
       "    </tr>\n",
       "    <tr>\n",
       "      <th>9</th>\n",
       "      <td>9</td>\n",
       "      <td>re : coastal deal - with exxon participation u...</td>\n",
       "      <td>1.0</td>\n",
       "    </tr>\n",
       "  </tbody>\n",
       "</table>\n",
       "</div>"
      ],
      "text/plain": [
       "   ID                                         Email Text  Email Type\n",
       "0   0  re : 6 . 1100 , disc : uniformitarianism , re ...         1.0\n",
       "1   1  the other side of * galicismos * * galicismo *...         1.0\n",
       "2   2  re : equistar deal tickets are you still avail...         1.0\n",
       "3   3  \\nHello I am your hot lil horny toy.\\n    I am...         0.0\n",
       "4   4  software at incredibly low prices ( 86 % lower...         0.0\n",
       "5   5  global risk management operations sally congra...         1.0\n",
       "6   6  On Sun, Aug 11, 2002 at 11:17:47AM +0100, wint...         1.0\n",
       "7   7  entourage , stockmogul newsletter ralph velez ...         0.0\n",
       "8   8  we owe you lots of money dear applicant , afte...         0.0\n",
       "9   9  re : coastal deal - with exxon participation u...         1.0"
      ]
     },
     "execution_count": 120,
     "metadata": {},
     "output_type": "execute_result"
    }
   ],
   "source": [
    "df1.head(10)"
   ]
  },
  {
   "cell_type": "markdown",
   "id": "8fd2f80e-01e6-4190-85e0-42204263cedc",
   "metadata": {},
   "source": []
  }
 ],
 "metadata": {
  "kernelspec": {
   "display_name": "Python 3 (ipykernel)",
   "language": "python",
   "name": "python3"
  },
  "language_info": {
   "codemirror_mode": {
    "name": "ipython",
    "version": 3
   },
   "file_extension": ".py",
   "mimetype": "text/x-python",
   "name": "python",
   "nbconvert_exporter": "python",
   "pygments_lexer": "ipython3",
   "version": "3.11.7"
  }
 },
 "nbformat": 4,
 "nbformat_minor": 5
}
